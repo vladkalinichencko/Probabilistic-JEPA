{
 "cells": [
  {
   "cell_type": "code",
   "execution_count": null,
   "id": "efc9bdc4",
   "metadata": {},
   "outputs": [],
   "source": [
    "!tensorboard --logdir runs --host 0.0.0.0 --port 6006"
   ]
  },
  {
   "cell_type": "code",
   "execution_count": null,
   "id": "baa940fc",
   "metadata": {},
   "outputs": [],
   "source": [
    "!python3 -m mlflow ui --backend-store-uri ./mlruns --host 0.0.0.0 --port 5050"
   ]
  }
 ],
 "metadata": {
  "kernelspec": {
   "display_name": "venv (3.13.3)",
   "language": "python",
   "name": "python3"
  },
  "language_info": {
   "codemirror_mode": {
    "name": "ipython",
    "version": 3
   },
   "file_extension": ".py",
   "mimetype": "text/x-python",
   "name": "python",
   "nbconvert_exporter": "python",
   "pygments_lexer": "ipython3",
   "version": "3.13.3"
  }
 },
 "nbformat": 4,
 "nbformat_minor": 5
}
